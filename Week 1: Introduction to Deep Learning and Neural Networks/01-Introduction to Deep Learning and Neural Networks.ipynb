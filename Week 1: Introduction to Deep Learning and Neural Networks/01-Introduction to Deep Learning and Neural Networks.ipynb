{
 "cells": [
  {
   "cell_type": "markdown",
   "id": "cc2361d0-0d48-4063-bc36-fb2880a8646a",
   "metadata": {},
   "source": [
    "# Day 1: Introduction to Deep Learning\n",
    "\n",
    "## Topics Covered\n",
    "- **Overview of deep learning and its importance**\n",
    "- Key concepts:\n",
    "  - Neurons\n",
    "  - Weights, biases\n",
    "  - Activation functions\n",
    "- **Forward propagation:**\n",
    "  - Loss functions\n",
    "  - Optimization\n",
    "\n",
    "---\n",
    "\n",
    "## Hands-On\n",
    "1. Setting up your environment:\n",
    "   - **Anaconda**\n",
    "   - **TensorFlow/Keras**\n",
    "   - **PyTorch**\n",
    "2. Implementing a **single-layer perceptron**.\n",
    "\n",
    "---\n",
    "\n",
    "## Resources\n",
    "- [Deep Learning Book – Chapter 6: Deep Feedforward Networks](https://www.deeplearningbook.org)\n",
    "- [TensorFlow Setup: Official Guide](https://www.tensorflow.org/install)\n",
    "\n",
    "---\n",
    "\n",
    "## Assignment\n",
    "Write a Python function for forward propagation in a simple neural network.\n",
    "\n",
    "\n"
   ]
  },
  {
   "cell_type": "code",
   "execution_count": null,
   "id": "075343e2-eb0c-43e6-a714-721bca297754",
   "metadata": {},
   "outputs": [],
   "source": []
  }
 ],
 "metadata": {
  "kernelspec": {
   "display_name": "Python 3 (ipykernel)",
   "language": "python",
   "name": "python3"
  },
  "language_info": {
   "codemirror_mode": {
    "name": "ipython",
    "version": 3
   },
   "file_extension": ".py",
   "mimetype": "text/x-python",
   "name": "python",
   "nbconvert_exporter": "python",
   "pygments_lexer": "ipython3",
   "version": "3.12.1"
  }
 },
 "nbformat": 4,
 "nbformat_minor": 5
}
